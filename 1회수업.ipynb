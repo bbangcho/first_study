{
  "nbformat": 4,
  "nbformat_minor": 0,
  "metadata": {
    "colab": {
      "name": "1회수업.ipynb",
      "provenance": [],
      "authorship_tag": "ABX9TyNIL8IgbW0QsNM+AE0m6Q/n",
      "include_colab_link": true
    },
    "kernelspec": {
      "name": "python3",
      "display_name": "Python 3"
    }
  },
  "cells": [
    {
      "cell_type": "markdown",
      "metadata": {
        "id": "view-in-github",
        "colab_type": "text"
      },
      "source": [
        "<a href=\"https://colab.research.google.com/github/bbangcho/first_study/blob/master/1%ED%9A%8C%EC%88%98%EC%97%85.ipynb\" target=\"_parent\"><img src=\"https://colab.research.google.com/assets/colab-badge.svg\" alt=\"Open In Colab\"/></a>"
      ]
    },
    {
      "cell_type": "markdown",
      "metadata": {
        "id": "APOuPZFrkm-U",
        "colab_type": "text"
      },
      "source": [
        "#파이썬 1회차\n",
        "##1.파이썬 기본 문법\n",
        "###1) Hello world!"
      ]
    },
    {
      "cell_type": "code",
      "metadata": {
        "id": "Cf9TU93ekTQd",
        "colab_type": "code",
        "colab": {
          "base_uri": "https://localhost:8080/",
          "height": 34
        },
        "outputId": "46ba30e7-bb85-4b8d-c23f-4107e78a50cb"
      },
      "source": [
        "#hello world 출력하기\n",
        "'''\n",
        "여러분\n",
        "주석을\n",
        "할 수 있습니다.\n",
        "'''\n",
        "print(\"hello world!\")"
      ],
      "execution_count": null,
      "outputs": [
        {
          "output_type": "stream",
          "text": [
            "hello world!\n"
          ],
          "name": "stdout"
        }
      ]
    },
    {
      "cell_type": "markdown",
      "metadata": {
        "id": "a_Ogl4_1mgze",
        "colab_type": "text"
      },
      "source": [
        "###2) if문-조건문\n",
        "\n",
        "ctrl + enter\n",
        "shift + enter"
      ]
    },
    {
      "cell_type": "code",
      "metadata": {
        "id": "Mvg1Zn5Und9i",
        "colab_type": "code",
        "colab": {}
      },
      "source": [
        "'a' \"a\"\n",
        "\n",
        "\"I\\\"m\""
      ],
      "execution_count": null,
      "outputs": []
    },
    {
      "cell_type": "code",
      "metadata": {
        "id": "MWW8BjyOmkjf",
        "colab_type": "code",
        "colab": {}
      },
      "source": [
        "n=10"
      ],
      "execution_count": null,
      "outputs": []
    },
    {
      "cell_type": "code",
      "metadata": {
        "id": "j2PX4ks2mvhd",
        "colab_type": "code",
        "colab": {
          "base_uri": "https://localhost:8080/",
          "height": 34
        },
        "outputId": "0a53b744-4989-4135-dbbb-b0bba84a0064"
      },
      "source": [
        "if n>5:\n",
        "    print('5보다 큽니다')\n",
        "elif n==5:\n",
        "    print('5입니다')\n",
        "else:\n",
        "    print('5보다 작습니다')\n"
      ],
      "execution_count": null,
      "outputs": [
        {
          "output_type": "stream",
          "text": [
            "5보다 큽니다\n"
          ],
          "name": "stdout"
        }
      ]
    },
    {
      "cell_type": "markdown",
      "metadata": {
        "id": "TPbn0If-pHxa",
        "colab_type": "text"
      },
      "source": [
        "###3) for문-반복문\n",
        "\n",
        "for: 반복 횟수가 정해져 있을 때\n",
        "\n",
        "while: 반복 횟수 대신 반복이 끝날 조건이 있을 때"
      ]
    },
    {
      "cell_type": "code",
      "metadata": {
        "id": "KZCSVUSGpM4X",
        "colab_type": "code",
        "colab": {
          "base_uri": "https://localhost:8080/",
          "height": 52
        },
        "outputId": "08a8aa7d-cde4-4030-be0c-75f4c33a7e94"
      },
      "source": [
        "'''\n",
        "int a[10]={1,2,3,}\n",
        "for (int i=0; i<10; i++){\n",
        "    printf(\"%d\\n\",a[i]);\n",
        "}\n",
        "'''\n",
        "\n",
        "'''c++: for-each문 (향상된 for문)\n",
        "int a[10]={1,2,3,};\n",
        "\n",
        "for (int num:a){\n",
        "    printf(\"%d\\n\",num);\n",
        "}\n",
        "'''\n",
        "\n",
        "a=[8,4,8,6,7,1,3,5,9,1] #list형\n",
        "\n",
        "for i in range(10):\n",
        "    print(a[i], end=\" \")\n",
        "\n",
        "print()\n",
        "\n",
        "for num in a:\n",
        "    print(num, end=\" \")\n"
      ],
      "execution_count": null,
      "outputs": [
        {
          "output_type": "stream",
          "text": [
            "8 4 8 6 7 1 3 5 9 1 \n",
            "8 4 8 6 7 1 3 5 9 1 "
          ],
          "name": "stdout"
        }
      ]
    },
    {
      "cell_type": "code",
      "metadata": {
        "id": "THIs9IlbsvKE",
        "colab_type": "code",
        "colab": {
          "base_uri": "https://localhost:8080/",
          "height": 193
        },
        "outputId": "9b37a64a-f453-461c-dd8c-1188d48ad6a4"
      },
      "source": [
        "cnt=0\n",
        "\n",
        "while cnt<10:\n",
        "    print(cnt)\n",
        "    cnt+=1"
      ],
      "execution_count": null,
      "outputs": [
        {
          "output_type": "stream",
          "text": [
            "0\n",
            "1\n",
            "2\n",
            "3\n",
            "4\n",
            "5\n",
            "6\n",
            "7\n",
            "8\n",
            "9\n"
          ],
          "name": "stdout"
        }
      ]
    },
    {
      "cell_type": "markdown",
      "metadata": {
        "id": "m8ZDjDRjtZ26",
        "colab_type": "text"
      },
      "source": [
        "###4) list, tuple: 나열형"
      ]
    },
    {
      "cell_type": "code",
      "metadata": {
        "id": "qJIoBC34te-7",
        "colab_type": "code",
        "colab": {}
      },
      "source": [
        "'''\n",
        "int a[10]={1,2,3,...}; //array\n",
        "'''\n",
        "\n",
        "lst=[8,4,8,6,7,1,3,5,9,1] #네모 괄호\n",
        "\n",
        "tpl=(8,4,8,6,7,1,3,5,9,1)  #둥근 괄호"
      ],
      "execution_count": null,
      "outputs": []
    },
    {
      "cell_type": "code",
      "metadata": {
        "id": "B1QQJ32ot9Nx",
        "colab_type": "code",
        "colab": {
          "base_uri": "https://localhost:8080/",
          "height": 34
        },
        "outputId": "955a27ed-a8a2-443e-ce6b-157a0b549ea8"
      },
      "source": [
        "lst.append(1000)\n",
        "print(lst)"
      ],
      "execution_count": null,
      "outputs": [
        {
          "output_type": "stream",
          "text": [
            "[8, 4, 8, 6, 7, 1, 3, 5, 9, 1, 1000]\n"
          ],
          "name": "stdout"
        }
      ]
    },
    {
      "cell_type": "code",
      "metadata": {
        "id": "BVKj1IR5uNpN",
        "colab_type": "code",
        "colab": {
          "base_uri": "https://localhost:8080/",
          "height": 34
        },
        "outputId": "f995a9d1-232c-41aa-be0f-d5299e53912f"
      },
      "source": [
        "num=lst.pop()\n",
        "print(lst, num)"
      ],
      "execution_count": null,
      "outputs": [
        {
          "output_type": "stream",
          "text": [
            "[8, 4, 8, 6, 7, 1, 3, 5, 9, 1] 1000\n"
          ],
          "name": "stdout"
        }
      ]
    },
    {
      "cell_type": "code",
      "metadata": {
        "id": "ZV_pmLaCubl0",
        "colab_type": "code",
        "colab": {}
      },
      "source": [
        "a=[1,'abcd',3.14,[3,4,6],(4,3)]"
      ],
      "execution_count": null,
      "outputs": []
    },
    {
      "cell_type": "code",
      "metadata": {
        "id": "xTWPnFaJvO34",
        "colab_type": "code",
        "colab": {
          "base_uri": "https://localhost:8080/",
          "height": 34
        },
        "outputId": "350e21c2-1c94-40d1-8400-c9c2affeba4f"
      },
      "source": [
        "print(a)"
      ],
      "execution_count": null,
      "outputs": [
        {
          "output_type": "stream",
          "text": [
            "[1, 'abcd', 3.14, [3, 4, 6], (4, 3)]\n"
          ],
          "name": "stdout"
        }
      ]
    },
    {
      "cell_type": "markdown",
      "metadata": {
        "id": "_LkntFn2wfyj",
        "colab_type": "text"
      },
      "source": [
        "###indexing"
      ]
    },
    {
      "cell_type": "code",
      "metadata": {
        "id": "bqen1U92vl1B",
        "colab_type": "code",
        "colab": {
          "base_uri": "https://localhost:8080/",
          "height": 34
        },
        "outputId": "14678510-59b7-45fb-ef1a-d170d7c73e1e"
      },
      "source": [
        "lst[4]"
      ],
      "execution_count": null,
      "outputs": [
        {
          "output_type": "execute_result",
          "data": {
            "text/plain": [
              "7"
            ]
          },
          "metadata": {
            "tags": []
          },
          "execution_count": 46
        }
      ]
    },
    {
      "cell_type": "code",
      "metadata": {
        "id": "vZFw1Q3vvvCb",
        "colab_type": "code",
        "colab": {
          "base_uri": "https://localhost:8080/",
          "height": 34
        },
        "outputId": "bd90de9d-23ba-4643-9744-d056bcb9dcbe"
      },
      "source": [
        "a[3][2]"
      ],
      "execution_count": null,
      "outputs": [
        {
          "output_type": "execute_result",
          "data": {
            "text/plain": [
              "6"
            ]
          },
          "metadata": {
            "tags": []
          },
          "execution_count": 49
        }
      ]
    },
    {
      "cell_type": "code",
      "metadata": {
        "id": "jHNtdnzav3DR",
        "colab_type": "code",
        "colab": {}
      },
      "source": [
        "b = [[1, 2],\n",
        "     [3, 4]]"
      ],
      "execution_count": null,
      "outputs": []
    },
    {
      "cell_type": "code",
      "metadata": {
        "id": "zxQMy-FjwB8w",
        "colab_type": "code",
        "colab": {
          "base_uri": "https://localhost:8080/",
          "height": 34
        },
        "outputId": "764ca9b9-4cec-4e7a-c61a-0cb1d743a21c"
      },
      "source": [
        "b[1][1] #[row][col]"
      ],
      "execution_count": null,
      "outputs": [
        {
          "output_type": "execute_result",
          "data": {
            "text/plain": [
              "4"
            ]
          },
          "metadata": {
            "tags": []
          },
          "execution_count": 53
        }
      ]
    },
    {
      "cell_type": "markdown",
      "metadata": {
        "id": "IFziY-VvxHCg",
        "colab_type": "text"
      },
      "source": [
        "###overloaded operator"
      ]
    },
    {
      "cell_type": "code",
      "metadata": {
        "id": "OpbKDMtewygy",
        "colab_type": "code",
        "colab": {}
      },
      "source": [
        "n1, n2 = 1, 2"
      ],
      "execution_count": null,
      "outputs": []
    },
    {
      "cell_type": "code",
      "metadata": {
        "id": "R_NW7sNpw7vN",
        "colab_type": "code",
        "colab": {
          "base_uri": "https://localhost:8080/",
          "height": 34
        },
        "outputId": "1dc6c2bb-5d52-44e7-ad2f-b2657eaa4cb4"
      },
      "source": [
        "n1 + n2"
      ],
      "execution_count": null,
      "outputs": [
        {
          "output_type": "execute_result",
          "data": {
            "text/plain": [
              "3"
            ]
          },
          "metadata": {
            "tags": []
          },
          "execution_count": 56
        }
      ]
    },
    {
      "cell_type": "code",
      "metadata": {
        "id": "MCycavmmw9Ve",
        "colab_type": "code",
        "colab": {}
      },
      "source": [
        "l1, l2 = [1,2,3], [4,5]"
      ],
      "execution_count": null,
      "outputs": []
    },
    {
      "cell_type": "code",
      "metadata": {
        "id": "bC8OE4kVxCCN",
        "colab_type": "code",
        "colab": {
          "base_uri": "https://localhost:8080/",
          "height": 34
        },
        "outputId": "602276ca-116f-445f-aa42-27550c2f5997"
      },
      "source": [
        "l1+l2"
      ],
      "execution_count": null,
      "outputs": [
        {
          "output_type": "execute_result",
          "data": {
            "text/plain": [
              "[1, 2, 3, 4, 5]"
            ]
          },
          "metadata": {
            "tags": []
          },
          "execution_count": 58
        }
      ]
    },
    {
      "cell_type": "code",
      "metadata": {
        "id": "yQ53_UrqxFAZ",
        "colab_type": "code",
        "colab": {
          "base_uri": "https://localhost:8080/",
          "height": 169
        },
        "outputId": "35a92616-ac14-4e2a-db82-6f1934b7b64a"
      },
      "source": [
        "n1 + l2"
      ],
      "execution_count": null,
      "outputs": [
        {
          "output_type": "error",
          "ename": "TypeError",
          "evalue": "ignored",
          "traceback": [
            "\u001b[0;31m---------------------------------------------------------------------------\u001b[0m",
            "\u001b[0;31mTypeError\u001b[0m                                 Traceback (most recent call last)",
            "\u001b[0;32m<ipython-input-59-724709566cf0>\u001b[0m in \u001b[0;36m<module>\u001b[0;34m()\u001b[0m\n\u001b[0;32m----> 1\u001b[0;31m \u001b[0mn1\u001b[0m \u001b[0;34m+\u001b[0m \u001b[0ml2\u001b[0m\u001b[0;34m\u001b[0m\u001b[0;34m\u001b[0m\u001b[0m\n\u001b[0m",
            "\u001b[0;31mTypeError\u001b[0m: unsupported operand type(s) for +: 'int' and 'list'"
          ]
        }
      ]
    },
    {
      "cell_type": "markdown",
      "metadata": {
        "id": "KFBFwsoVyP4L",
        "colab_type": "text"
      },
      "source": [
        "###unpacking"
      ]
    },
    {
      "cell_type": "code",
      "metadata": {
        "id": "cpgQ6PhKyS3_",
        "colab_type": "code",
        "colab": {}
      },
      "source": [
        "a = 1;\n",
        "b = 2;\n",
        "\n",
        "(a, b) = (1, 2)"
      ],
      "execution_count": null,
      "outputs": []
    },
    {
      "cell_type": "markdown",
      "metadata": {
        "id": "ANGCr9BPxjXT",
        "colab_type": "text"
      },
      "source": [
        "###operators"
      ]
    },
    {
      "cell_type": "code",
      "metadata": {
        "id": "1aZPf-AExPCN",
        "colab_type": "code",
        "colab": {
          "base_uri": "https://localhost:8080/",
          "height": 87
        },
        "outputId": "df2cadba-8b24-4fef-fd01-abc200bc5bbe"
      },
      "source": [
        "'''c\n",
        "a / b: a, b int -> 몫\n",
        "        둘 중에 하나라도 소수형이 있으면 나누기\n",
        "a % b : 나머지\n",
        "'''\n",
        "\n",
        "a, b = 7, 3\n",
        "\n",
        "print(a/b)\n",
        "print(a//b)  #몫\n",
        "print(a%b)\n",
        "\n",
        "print(a**b)  #a의 b승"
      ],
      "execution_count": null,
      "outputs": [
        {
          "output_type": "stream",
          "text": [
            "2.3333333333333335\n",
            "2\n",
            "1\n",
            "343\n"
          ],
          "name": "stdout"
        }
      ]
    },
    {
      "cell_type": "code",
      "metadata": {
        "id": "l4tPCKBByke-",
        "colab_type": "code",
        "colab": {
          "base_uri": "https://localhost:8080/",
          "height": 34
        },
        "outputId": "e3883873-e2a8-4ff9-a5b4-2fe7dd24c357"
      },
      "source": [
        "print(\"abcd \"*10)"
      ],
      "execution_count": null,
      "outputs": [
        {
          "output_type": "stream",
          "text": [
            "abcd abcd abcd abcd abcd abcd abcd abcd abcd abcd \n"
          ],
          "name": "stdout"
        }
      ]
    },
    {
      "cell_type": "code",
      "metadata": {
        "id": "bh4CACNCy_Dv",
        "colab_type": "code",
        "colab": {}
      },
      "source": [
        "new_str=\"abcd \"*10"
      ],
      "execution_count": null,
      "outputs": []
    },
    {
      "cell_type": "code",
      "metadata": {
        "id": "-Vl9WAHbzLaG",
        "colab_type": "code",
        "colab": {
          "base_uri": "https://localhost:8080/",
          "height": 34
        },
        "outputId": "2d165ec5-a1c6-46a5-e654-d487d280a951"
      },
      "source": [
        "print(new_str)"
      ],
      "execution_count": null,
      "outputs": [
        {
          "output_type": "stream",
          "text": [
            "abcd abcd abcd abcd abcd abcd abcd abcd abcd abcd \n"
          ],
          "name": "stdout"
        }
      ]
    },
    {
      "cell_type": "markdown",
      "metadata": {
        "id": "DSylMQagzdt1",
        "colab_type": "text"
      },
      "source": [
        "###Function"
      ]
    },
    {
      "cell_type": "code",
      "metadata": {
        "id": "F0wqJ7GMzNH9",
        "colab_type": "code",
        "colab": {
          "base_uri": "https://localhost:8080/",
          "height": 34
        },
        "outputId": "d39a7e74-0ba9-4ef0-8491-ee50b255ffd5"
      },
      "source": [
        "'''c\n",
        "int func(int arg){\n",
        "    ...\n",
        "    return num\n",
        "}\n",
        "\n",
        "a++\n",
        "a--\n",
        "no!!!\n",
        "\n",
        "'''\n",
        "\n",
        "def func(arg1, arg2):\n",
        "\n",
        "    arg1 += 3\n",
        "    # arg1 = arg1 + 3\n",
        "\n",
        "    return arg1 + arg2\n",
        "\n",
        "func(2,3)"
      ],
      "execution_count": null,
      "outputs": [
        {
          "output_type": "execute_result",
          "data": {
            "text/plain": [
              "8"
            ]
          },
          "metadata": {
            "tags": []
          },
          "execution_count": 70
        }
      ]
    },
    {
      "cell_type": "code",
      "metadata": {
        "id": "Ibqevy5c0FL4",
        "colab_type": "code",
        "colab": {
          "base_uri": "https://localhost:8080/",
          "height": 265
        },
        "outputId": "551a984d-4c6d-495a-8c61-392106bc5d75"
      },
      "source": [
        "import matplotlib.pyplot as plt\n",
        "#from matplotlib import pyplot as plt\n",
        "\n",
        "from math import sin\n",
        "import numpy as np\n",
        "\n",
        "#x = list(range(0,10)) #[0,1,2,3,4,5,6,7,8,9]\n",
        "x = np.linspace(0,10,100)\n",
        "y = [sin(n) for n in x] #sin[0], sin[1], sin[2]\n",
        "'''\n",
        "for n in x:\n",
        "    y.append(sin(n))\n",
        "'''\n",
        "\n",
        "plt.plot(x, y)\n",
        "plt.show()"
      ],
      "execution_count": null,
      "outputs": [
        {
          "output_type": "display_data",
          "data": {
            "image/png": "[encoded data removed]",
            "text/plain": [
              "<Figure size 432x288 with 1 Axes>"
            ]
          },
          "metadata": {
            "tags": [],
            "needs_background": "light"
          }
        }
      ]
    },
    {
      "cell_type": "code",
      "metadata": {
        "id": "dBJhA_Rw4AON",
        "colab_type": "code",
        "colab": {}
      },
      "source": [
        "A=np.array([[1,2,3],\n",
        "         [4,5,6],\n",
        "         [7,8,9]])"
      ],
      "execution_count": null,
      "outputs": []
    },
    {
      "cell_type": "code",
      "metadata": {
        "id": "orjKZKZi4F8-",
        "colab_type": "code",
        "colab": {}
      },
      "source": [
        "B=np.ones((3,3))"
      ],
      "execution_count": null,
      "outputs": []
    },
    {
      "cell_type": "code",
      "metadata": {
        "id": "4hbaJ5lo4fZm",
        "colab_type": "code",
        "colab": {
          "base_uri": "https://localhost:8080/",
          "height": 70
        },
        "outputId": "ba1f2b80-ddb5-4c25-a687-3ace20aaabd8"
      },
      "source": [
        "B"
      ],
      "execution_count": null,
      "outputs": [
        {
          "output_type": "execute_result",
          "data": {
            "text/plain": [
              "array([[1., 1., 1.],\n",
              "       [1., 1., 1.],\n",
              "       [1., 1., 1.]])"
            ]
          },
          "metadata": {
            "tags": []
          },
          "execution_count": 80
        }
      ]
    },
    {
      "cell_type": "code",
      "metadata": {
        "id": "gKxZhWSt4ir6",
        "colab_type": "code",
        "colab": {}
      },
      "source": [
        "C=np.zeros_like(A)"
      ],
      "execution_count": null,
      "outputs": []
    },
    {
      "cell_type": "code",
      "metadata": {
        "id": "OmneQPL24qIN",
        "colab_type": "code",
        "colab": {
          "base_uri": "https://localhost:8080/",
          "height": 70
        },
        "outputId": "e96673ee-0eaa-4415-f608-3116221dba35"
      },
      "source": [
        "C"
      ],
      "execution_count": null,
      "outputs": [
        {
          "output_type": "execute_result",
          "data": {
            "text/plain": [
              "array([[0, 0, 0],\n",
              "       [0, 0, 0],\n",
              "       [0, 0, 0]])"
            ]
          },
          "metadata": {
            "tags": []
          },
          "execution_count": 82
        }
      ]
    },
    {
      "cell_type": "code",
      "metadata": {
        "id": "McN0M8H44yPo",
        "colab_type": "code",
        "colab": {}
      },
      "source": [
        "I=np.eye(3)"
      ],
      "execution_count": null,
      "outputs": []
    },
    {
      "cell_type": "code",
      "metadata": {
        "id": "p8kyxrkw45QM",
        "colab_type": "code",
        "colab": {
          "base_uri": "https://localhost:8080/",
          "height": 70
        },
        "outputId": "c3d3a84d-9c1d-425d-90b1-268c04cab5f4"
      },
      "source": [
        "I"
      ],
      "execution_count": null,
      "outputs": [
        {
          "output_type": "execute_result",
          "data": {
            "text/plain": [
              "array([[1., 0., 0.],\n",
              "       [0., 1., 0.],\n",
              "       [0., 0., 1.]])"
            ]
          },
          "metadata": {
            "tags": []
          },
          "execution_count": 84
        }
      ]
    },
    {
      "cell_type": "code",
      "metadata": {
        "id": "dDEJU1vn48KX",
        "colab_type": "code",
        "colab": {
          "base_uri": "https://localhost:8080/",
          "height": 70
        },
        "outputId": "c87082e8-62b4-4485-b948-ce4ce8067a43"
      },
      "source": [
        "np.transpose(A)\n",
        "\n",
        "#A.T"
      ],
      "execution_count": null,
      "outputs": [
        {
          "output_type": "execute_result",
          "data": {
            "text/plain": [
              "array([[1, 4, 7],\n",
              "       [2, 5, 8],\n",
              "       [3, 6, 9]])"
            ]
          },
          "metadata": {
            "tags": []
          },
          "execution_count": 89
        }
      ]
    },
    {
      "cell_type": "code",
      "metadata": {
        "id": "2NXnRhkW5Kvc",
        "colab_type": "code",
        "colab": {}
      },
      "source": [
        "D=np.matmul(A, B)"
      ],
      "execution_count": null,
      "outputs": []
    },
    {
      "cell_type": "code",
      "metadata": {
        "id": "1_b5zYc55haF",
        "colab_type": "code",
        "colab": {
          "base_uri": "https://localhost:8080/",
          "height": 70
        },
        "outputId": "20f58fcb-2efe-4538-b617-59872e5b0c60"
      },
      "source": [
        "D"
      ],
      "execution_count": null,
      "outputs": [
        {
          "output_type": "execute_result",
          "data": {
            "text/plain": [
              "array([[ 6.,  6.,  6.],\n",
              "       [15., 15., 15.],\n",
              "       [24., 24., 24.]])"
            ]
          },
          "metadata": {
            "tags": []
          },
          "execution_count": 92
        }
      ]
    },
    {
      "cell_type": "code",
      "metadata": {
        "id": "Nbg-JuJQ5k7g",
        "colab_type": "code",
        "colab": {
          "base_uri": "https://localhost:8080/",
          "height": 70
        },
        "outputId": "557ebfd7-9f37-4d0a-f89d-cd891b390eaa"
      },
      "source": [
        "A*B"
      ],
      "execution_count": null,
      "outputs": [
        {
          "output_type": "execute_result",
          "data": {
            "text/plain": [
              "array([[1., 2., 3.],\n",
              "       [4., 5., 6.],\n",
              "       [7., 8., 9.]])"
            ]
          },
          "metadata": {
            "tags": []
          },
          "execution_count": 93
        }
      ]
    },
    {
      "cell_type": "code",
      "metadata": {
        "id": "EeqdviWI5vpN",
        "colab_type": "code",
        "colab": {
          "base_uri": "https://localhost:8080/",
          "height": 52
        },
        "outputId": "9dc168c5-2a60-4068-c4dd-9b3a8e29ed8b"
      },
      "source": [
        "np.linalg.inv([[1,2],\n",
        "                [3,4]])"
      ],
      "execution_count": null,
      "outputs": [
        {
          "output_type": "execute_result",
          "data": {
            "text/plain": [
              "array([[-2. ,  1. ],\n",
              "       [ 1.5, -0.5]])"
            ]
          },
          "metadata": {
            "tags": []
          },
          "execution_count": 96
        }
      ]
    },
    {
      "cell_type": "code",
      "metadata": {
        "id": "jqkYEXCW6WHp",
        "colab_type": "code",
        "colab": {
          "base_uri": "https://localhost:8080/",
          "height": 70
        },
        "outputId": "78b515f8-e8a6-4e03-a891-5c45dcdf29a7"
      },
      "source": [
        "A"
      ],
      "execution_count": null,
      "outputs": [
        {
          "output_type": "execute_result",
          "data": {
            "text/plain": [
              "array([[1, 2, 3],\n",
              "       [4, 5, 6],\n",
              "       [7, 8, 9]])"
            ]
          },
          "metadata": {
            "tags": []
          },
          "execution_count": 97
        }
      ]
    },
    {
      "cell_type": "code",
      "metadata": {
        "id": "7wiqrcRz6ttI",
        "colab_type": "code",
        "colab": {
          "base_uri": "https://localhost:8080/",
          "height": 34
        },
        "outputId": "bdfcbcbb-0fe7-4ef3-9db5-3ac5059bc5d1"
      },
      "source": [
        "A[1][2]"
      ],
      "execution_count": null,
      "outputs": [
        {
          "output_type": "execute_result",
          "data": {
            "text/plain": [
              "6"
            ]
          },
          "metadata": {
            "tags": []
          },
          "execution_count": 98
        }
      ]
    },
    {
      "cell_type": "code",
      "metadata": {
        "id": "sj8-4MLI6zRC",
        "colab_type": "code",
        "colab": {
          "base_uri": "https://localhost:8080/",
          "height": 34
        },
        "outputId": "94dcd28c-54bf-41c3-9a82-2bea1e21f114"
      },
      "source": [
        "A[1,2]"
      ],
      "execution_count": null,
      "outputs": [
        {
          "output_type": "execute_result",
          "data": {
            "text/plain": [
              "6"
            ]
          },
          "metadata": {
            "tags": []
          },
          "execution_count": 99
        }
      ]
    },
    {
      "cell_type": "code",
      "metadata": {
        "id": "frm7ZNmd63u5",
        "colab_type": "code",
        "colab": {
          "base_uri": "https://localhost:8080/",
          "height": 34
        },
        "outputId": "158e6150-f652-4e54-d8e8-a6b9a74235a3"
      },
      "source": [
        "A[:,2]"
      ],
      "execution_count": null,
      "outputs": [
        {
          "output_type": "execute_result",
          "data": {
            "text/plain": [
              "array([3, 6, 9])"
            ]
          },
          "metadata": {
            "tags": []
          },
          "execution_count": 100
        }
      ]
    },
    {
      "cell_type": "code",
      "metadata": {
        "id": "wKNWqmy47FFb",
        "colab_type": "code",
        "colab": {
          "base_uri": "https://localhost:8080/",
          "height": 34
        },
        "outputId": "5bcb60f3-f552-42ff-a862-d163b37b62ac"
      },
      "source": [
        "A[0:3,2]"
      ],
      "execution_count": null,
      "outputs": [
        {
          "output_type": "execute_result",
          "data": {
            "text/plain": [
              "array([3, 6, 9])"
            ]
          },
          "metadata": {
            "tags": []
          },
          "execution_count": 101
        }
      ]
    },
    {
      "cell_type": "code",
      "metadata": {
        "id": "ymjRB6JV7bO2",
        "colab_type": "code",
        "colab": {
          "base_uri": "https://localhost:8080/",
          "height": 52
        },
        "outputId": "df99e46f-68e9-46e1-e5b5-7ce934d47b9f"
      },
      "source": [
        "A[1:3, 1:3]"
      ],
      "execution_count": null,
      "outputs": [
        {
          "output_type": "execute_result",
          "data": {
            "text/plain": [
              "array([[5, 6],\n",
              "       [8, 9]])"
            ]
          },
          "metadata": {
            "tags": []
          },
          "execution_count": 102
        }
      ]
    },
    {
      "cell_type": "code",
      "metadata": {
        "id": "vh9H7O7G7rO4",
        "colab_type": "code",
        "colab": {
          "base_uri": "https://localhost:8080/",
          "height": 34
        },
        "outputId": "f4697d62-792a-46df-9882-eea088d51c1e"
      },
      "source": [
        "np.max(A,axis=1)"
      ],
      "execution_count": null,
      "outputs": [
        {
          "output_type": "execute_result",
          "data": {
            "text/plain": [
              "array([3, 6, 9])"
            ]
          },
          "metadata": {
            "tags": []
          },
          "execution_count": 104
        }
      ]
    },
    {
      "cell_type": "code",
      "metadata": {
        "id": "GgV6LlgK71aT",
        "colab_type": "code",
        "colab": {
          "base_uri": "https://localhost:8080/",
          "height": 34
        },
        "outputId": "81076197-79ac-44df-9e15-4618c96c6aa7"
      },
      "source": [
        "print(np.max(A), np.max(A,axis=0), np.max(A,axis=1))"
      ],
      "execution_count": null,
      "outputs": [
        {
          "output_type": "stream",
          "text": [
            "9 [7 8 9] [3 6 9]\n"
          ],
          "name": "stdout"
        }
      ]
    },
    {
      "cell_type": "code",
      "metadata": {
        "id": "lR2viWAN8StP",
        "colab_type": "code",
        "colab": {
          "base_uri": "https://localhost:8080/",
          "height": 34
        },
        "outputId": "a902c788-7057-40f8-d6e2-fa2a9f900c91"
      },
      "source": [
        "np.average(A,axis=1)"
      ],
      "execution_count": null,
      "outputs": [
        {
          "output_type": "execute_result",
          "data": {
            "text/plain": [
              "array([2., 5., 8.])"
            ]
          },
          "metadata": {
            "tags": []
          },
          "execution_count": 109
        }
      ]
    },
    {
      "cell_type": "code",
      "metadata": {
        "id": "ZE4kGDmT8oBn",
        "colab_type": "code",
        "colab": {
          "base_uri": "https://localhost:8080/",
          "height": 269
        },
        "outputId": "c6c77ad8-f706-4be9-efa8-36e8fffcbfe8"
      },
      "source": [
        "plt.axis([-10, 10, -10, 10])\n",
        "plt.scatter([0],[0])\n",
        "plt.show()"
      ],
      "execution_count": null,
      "outputs": [
        {
          "output_type": "display_data",
          "data": {
            "image/png": "[encoded data removed]",
            "text/plain": [
              "<Figure size 432x288 with 1 Axes>"
            ]
          },
          "metadata": {
            "tags": [],
            "needs_background": "light"
          }
        }
      ]
    },
    {
      "cell_type": "code",
      "metadata": {
        "id": "MtVlo8IQ-a6g",
        "colab_type": "code",
        "colab": {
          "base_uri": "https://localhost:8080/",
          "height": 134
        },
        "outputId": "b4db5b8b-b691-4885-f358-3ed7ec1367c0"
      },
      "source": [
        "int a[10]={1,2,3};"
      ],
      "execution_count": null,
      "outputs": [
        {
          "output_type": "error",
          "ename": "SyntaxError",
          "evalue": "ignored",
          "traceback": [
            "\u001b[0;36m  File \u001b[0;32m\"<ipython-input-115-a191f4b2b590>\"\u001b[0;36m, line \u001b[0;32m1\u001b[0m\n\u001b[0;31m    int a[10]={1,2,3};\u001b[0m\n\u001b[0m        ^\u001b[0m\n\u001b[0;31mSyntaxError\u001b[0m\u001b[0;31m:\u001b[0m invalid syntax\n"
          ]
        }
      ]
    },
    {
      "cell_type": "code",
      "metadata": {
        "id": "YR_RV89P_218",
        "colab_type": "code",
        "colab": {}
      },
      "source": [
        "lst=[1,5]\n",
        "lst.append(7)"
      ],
      "execution_count": null,
      "outputs": []
    },
    {
      "cell_type": "code",
      "metadata": {
        "id": "Gsl83U0TAp_O",
        "colab_type": "code",
        "colab": {
          "base_uri": "https://localhost:8080/",
          "height": 34
        },
        "outputId": "aa19690f-232e-4c7c-bca9-abc8cefc0585"
      },
      "source": [
        "print(lst)"
      ],
      "execution_count": null,
      "outputs": [
        {
          "output_type": "stream",
          "text": [
            "[1, 5, 7]\n"
          ],
          "name": "stdout"
        }
      ]
    },
    {
      "cell_type": "code",
      "metadata": {
        "id": "el2Au30xAsbF",
        "colab_type": "code",
        "colab": {}
      },
      "source": [
        "lst.insert(1, 7)"
      ],
      "execution_count": null,
      "outputs": []
    },
    {
      "cell_type": "code",
      "metadata": {
        "id": "rrCxj3a7A9C4",
        "colab_type": "code",
        "colab": {
          "base_uri": "https://localhost:8080/",
          "height": 34
        },
        "outputId": "fb0f64c0-a678-4e90-c2ea-de1a6d4864e1"
      },
      "source": [
        "lst"
      ],
      "execution_count": null,
      "outputs": [
        {
          "output_type": "execute_result",
          "data": {
            "text/plain": [
              "[1, 7, 5, 7]"
            ]
          },
          "metadata": {
            "tags": []
          },
          "execution_count": 122
        }
      ]
    },
    {
      "cell_type": "code",
      "metadata": {
        "id": "6vi3P3VKBAt7",
        "colab_type": "code",
        "colab": {}
      },
      "source": [
        "lst += [2, 3, 4]"
      ],
      "execution_count": null,
      "outputs": []
    },
    {
      "cell_type": "code",
      "metadata": {
        "id": "Gm1Ohao2BD7K",
        "colab_type": "code",
        "colab": {
          "base_uri": "https://localhost:8080/",
          "height": 34
        },
        "outputId": "3660bbed-41aa-4a9e-c6ae-e9d9475eb3f9"
      },
      "source": [
        "lst"
      ],
      "execution_count": null,
      "outputs": [
        {
          "output_type": "execute_result",
          "data": {
            "text/plain": [
              "[1, 7, 5, 7, 2, 3, 4]"
            ]
          },
          "metadata": {
            "tags": []
          },
          "execution_count": 124
        }
      ]
    },
    {
      "cell_type": "code",
      "metadata": {
        "id": "BrLEgLybBEoF",
        "colab_type": "code",
        "colab": {}
      },
      "source": [
        ""
      ],
      "execution_count": null,
      "outputs": []
    }
  ]
}